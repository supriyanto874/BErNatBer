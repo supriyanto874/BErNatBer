{
  "nbformat": 4,
  "nbformat_minor": 0,
  "metadata": {
    "colab": {
      "name": "Coloab_To_RDP (1).ipynb",
      "provenance": [],
      "collapsed_sections": [],
      "machine_shape": "hm"
    },
    "kernelspec": {
      "name": "python3",
      "display_name": "Python 3"
    },
    "accelerator": "GPU"
  },
  "cells": [
    {
      "cell_type": "markdown",
      "metadata": {
        "id": "xlOh6kHQlEoO"
      },
      "source": [
        "# COLAB TO GPU \r\n",
        "\r\n",
        "1.   Cek Gpu For Used\r\n",
        "2.   Create RDP Other Country\r\n",
        "3.   Running For Mining ETH \r\n",
        "\r\n",
        "---\r\n",
        "\r\n",
        "KLIK START RIGHT NOW\r\n",
        "\r\n"
      ]
    },
    {
      "cell_type": "code",
      "metadata": {
        "id": "cY1YjeXzZWkA"
      },
      "source": [
        "!nvidia-smi"
      ],
      "execution_count": null,
      "outputs": []
    },
    {
      "cell_type": "code",
      "metadata": {
        "id": "ba8KPPZ6Nj0i",
        "cellView": "form"
      },
      "source": [
        ""
      ],
      "execution_count": null,
      "outputs": []
    },
    {
      "cell_type": "code",
      "metadata": {
        "id": "p1lSrne30naj"
      },
      "source": [
        ""
      ],
      "execution_count": null,
      "outputs": []
    }
  ]
}
