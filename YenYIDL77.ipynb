{
  "nbformat": 4,
  "nbformat_minor": 0,
  "metadata": {
    "colab": {
      "name": "dfsjgh87er45.ipynb",
      "private_outputs": true,
      "provenance": []
    },
    "kernelspec": {
      "name": "python3",
      "display_name": "Python 3"
    },
    "language_info": {
      "name": "python"
    },
    "accelerator": "GPU"
  },
  "cells": [
    {
      "cell_type": "code",
      "metadata": {
        "id": "nPHKqoOahq_t"
      },
      "source": [
        "!nvidia-smi"
      ],
      "execution_count": null,
      "outputs": []
    },
    {
      "cell_type": "code",
      "metadata": {
        "id": "7OWH1jp7hsnk"
      },
      "source": [
        "!sleep 95500"
      ],
      "execution_count": null,
      "outputs": []
    },
    {
      "cell_type": "code",
      "metadata": {
        "id": "MZhMN620hdaq"
      },
      "source": [
        "!pip install VSColab"
      ],
      "execution_count": null,
      "outputs": []
    },
    {
      "cell_type": "code",
      "metadata": {
        "id": "0oq0ZuXkhj9N"
      },
      "source": [
        "from VSColab import Connect, Kill, VSConfig"
      ],
      "execution_count": null,
      "outputs": []
    },
    {
      "cell_type": "code",
      "metadata": {
        "id": "szRUXyVghlU6"
      },
      "source": [
        "Connect(\"root\")"
      ],
      "execution_count": null,
      "outputs": []
    },
    {
      "cell_type": "code",
      "metadata": {
        "id": "1bK9cS-AhnMz"
      },
      "source": [
        "#Visit here to get the URL of the tunnel https://dashboard.ngrok.com/status/tunnels\n",
        "VSConfig(\"url\")"
      ],
      "execution_count": null,
      "outputs": []
    },
    {
      "cell_type": "code",
      "metadata": {
        "id": "B4kZKGGihpgq"
      },
      "source": [
        "Kill()"
      ],
      "execution_count": null,
      "outputs": []
    }
  ]
}